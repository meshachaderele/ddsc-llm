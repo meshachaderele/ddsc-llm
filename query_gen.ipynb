{
 "cells": [
  {
   "cell_type": "code",
   "execution_count": 2,
   "metadata": {},
   "outputs": [],
   "source": [
    "from openai import OpenAI\n",
    "import pandas as pd\n",
    "import random\n"
   ]
  },
  {
   "cell_type": "code",
   "execution_count": 11,
   "metadata": {},
   "outputs": [],
   "source": [
    "import os\n",
    "from dotenv import load_dotenv\n",
    "\n",
    "load_dotenv()\n",
    "\n",
    "client = OpenAI(\n",
    "  api_key=os.environ['OPENAI_API_KEY'],\n",
    ")"
   ]
  },
  {
   "cell_type": "code",
   "execution_count": 5,
   "metadata": {},
   "outputs": [],
   "source": [
    "df = pd.read_parquet(\"processed_danish_wikipedia.parquet\")"
   ]
  },
  {
   "cell_type": "code",
   "execution_count": 6,
   "metadata": {},
   "outputs": [
    {
     "data": {
      "text/html": [
       "<div>\n",
       "<style scoped>\n",
       "    .dataframe tbody tr th:only-of-type {\n",
       "        vertical-align: middle;\n",
       "    }\n",
       "\n",
       "    .dataframe tbody tr th {\n",
       "        vertical-align: top;\n",
       "    }\n",
       "\n",
       "    .dataframe thead th {\n",
       "        text-align: right;\n",
       "    }\n",
       "</style>\n",
       "<table border=\"1\" class=\"dataframe\">\n",
       "  <thead>\n",
       "    <tr style=\"text-align: right;\">\n",
       "      <th></th>\n",
       "      <th>article_id</th>\n",
       "      <th>title</th>\n",
       "      <th>url</th>\n",
       "      <th>positive</th>\n",
       "      <th>negatives</th>\n",
       "    </tr>\n",
       "  </thead>\n",
       "  <tbody>\n",
       "    <tr>\n",
       "      <th>0</th>\n",
       "      <td>20231101.da_28930_0</td>\n",
       "      <td>2-modulusdeler</td>\n",
       "      <td>https://da.wikipedia.org/wiki/2-modulusdeler</td>\n",
       "      <td>Men har man anvendt en fast fordeler (eng. pre...</td>\n",
       "      <td>[Indenfor den digitale elektronik bruges beteg...</td>\n",
       "    </tr>\n",
       "    <tr>\n",
       "      <th>1</th>\n",
       "      <td>20231101.da_720900_0</td>\n",
       "      <td>A.O. Andersen (skibsreder)</td>\n",
       "      <td>https://da.wikipedia.org/wiki/A.O.%20Andersen%...</td>\n",
       "      <td>Fra 1919 havde Andersen sæde i Privatbankens b...</td>\n",
       "      <td>[A.O. Andersen fik 1. juli 1890 ansættelse i s...</td>\n",
       "    </tr>\n",
       "    <tr>\n",
       "      <th>2</th>\n",
       "      <td>20231101.da_43159_0</td>\n",
       "      <td>ASA Film</td>\n",
       "      <td>https://da.wikipedia.org/wiki/ASA%20Film</td>\n",
       "      <td>A/S Filmatelieret ASA (Oprindelige navn: Aktie...</td>\n",
       "      <td>[ASA-film A/S blev grundlagt i 1936 af Lau Lau...</td>\n",
       "    </tr>\n",
       "    <tr>\n",
       "      <th>3</th>\n",
       "      <td>20231101.da_13868_0</td>\n",
       "      <td>Adolf Hitler</td>\n",
       "      <td>https://da.wikipedia.org/wiki/Adolf%20Hitler</td>\n",
       "      <td>Den nationalsocialistiske udenrigspolitik vist...</td>\n",
       "      <td>[Hitler førte den samme udenrigspolitisk, men ...</td>\n",
       "    </tr>\n",
       "    <tr>\n",
       "      <th>4</th>\n",
       "      <td>20231101.da_996759_0</td>\n",
       "      <td>Amanda Nunes</td>\n",
       "      <td>https://da.wikipedia.org/wiki/Amanda%20Nunes</td>\n",
       "      <td>Nunes var planlagt til at møde Kaitlin Young p...</td>\n",
       "      <td>[Nunes vandt fem kampe i træk, alle ved en for...</td>\n",
       "    </tr>\n",
       "  </tbody>\n",
       "</table>\n",
       "</div>"
      ],
      "text/plain": [
       "             article_id                       title  \\\n",
       "0   20231101.da_28930_0              2-modulusdeler   \n",
       "1  20231101.da_720900_0  A.O. Andersen (skibsreder)   \n",
       "2   20231101.da_43159_0                    ASA Film   \n",
       "3   20231101.da_13868_0                Adolf Hitler   \n",
       "4  20231101.da_996759_0                Amanda Nunes   \n",
       "\n",
       "                                                 url  \\\n",
       "0       https://da.wikipedia.org/wiki/2-modulusdeler   \n",
       "1  https://da.wikipedia.org/wiki/A.O.%20Andersen%...   \n",
       "2           https://da.wikipedia.org/wiki/ASA%20Film   \n",
       "3       https://da.wikipedia.org/wiki/Adolf%20Hitler   \n",
       "4       https://da.wikipedia.org/wiki/Amanda%20Nunes   \n",
       "\n",
       "                                            positive  \\\n",
       "0  Men har man anvendt en fast fordeler (eng. pre...   \n",
       "1  Fra 1919 havde Andersen sæde i Privatbankens b...   \n",
       "2  A/S Filmatelieret ASA (Oprindelige navn: Aktie...   \n",
       "3  Den nationalsocialistiske udenrigspolitik vist...   \n",
       "4  Nunes var planlagt til at møde Kaitlin Young p...   \n",
       "\n",
       "                                           negatives  \n",
       "0  [Indenfor den digitale elektronik bruges beteg...  \n",
       "1  [A.O. Andersen fik 1. juli 1890 ansættelse i s...  \n",
       "2  [ASA-film A/S blev grundlagt i 1936 af Lau Lau...  \n",
       "3  [Hitler førte den samme udenrigspolitisk, men ...  \n",
       "4  [Nunes vandt fem kampe i træk, alle ved en for...  "
      ]
     },
     "execution_count": 6,
     "metadata": {},
     "output_type": "execute_result"
    }
   ],
   "source": [
    "df.head()"
   ]
  },
  {
   "cell_type": "code",
   "execution_count": 12,
   "metadata": {},
   "outputs": [],
   "source": [
    "def generate_prompt(language, positive):\n",
    "    prompt = (\n",
    "        f\"Your task is to anticipate possible search queries by users in the form of a question for a given document.\\n\"\n",
    "        f\"- The question must be written in {language}\\n\"\n",
    "        f\"- The question should be formulated concretely and precisely and relate to the information from the given document\\n\"\n",
    "        f\"- The question must be coherent and should make sense without knowing the document\\n\"\n",
    "        f\"- The question must be answerable by the document\\n\"\n",
    "        f\"- The question should focus on one aspect and avoid using subclauses connected with 'and'\\n\"\n",
    "        f\"- The question should not be overly specific and should mimic a request of a user who is just starting to research the given topic\\n\"\n",
    "        f\"- Do not draw on your prior knowledge\\n\\n\"\n",
    "        f\"Generate a question in {language} for the following document:\\n\"\n",
    "        f\"<document>\\n{positive}\\n</document>\\n\\n\"\n",
    "        f\"Search query:\"\n",
    "    )\n",
    "    return prompt"
   ]
  },
  {
   "cell_type": "code",
   "execution_count": 22,
   "metadata": {},
   "outputs": [],
   "source": [
    "def request_query_generation(prompt):\n",
    "    client = OpenAI()\n",
    "    response = client.completions.create(\n",
    "        model=\"gpt-3.5-turbo-instruct\",\n",
    "        prompt=prompt,\n",
    "        max_tokens=512,\n",
    "        temperature=0.0\n",
    "    )\n",
    "    return response.choices[0].text.strip()"
   ]
  },
  {
   "cell_type": "code",
   "execution_count": 23,
   "metadata": {},
   "outputs": [],
   "source": [
    "language = \"Danish\" \n",
    "\n",
    "# Generate queries for the positive paragraph in each article\n",
    "queries = []\n",
    "for _, row in df.iterrows():\n",
    "    positive = row['positive']\n",
    "    prompt = generate_prompt(language, positive)\n",
    "    \n",
    "    # Get the generated query from the LLM\n",
    "    query = request_query_generation(prompt)\n",
    "    queries.append({\n",
    "        'article_id': row['article_id'],\n",
    "        'title': row['title'],\n",
    "        'url': row['url'],\n",
    "        'positive': positive,\n",
    "        'generated_query': query\n",
    "    })"
   ]
  },
  {
   "cell_type": "code",
   "execution_count": 24,
   "metadata": {},
   "outputs": [
    {
     "name": "stdout",
     "output_type": "stream",
     "text": [
      "Query generation complete. Results saved to positive_queries_with_prompt.parquet\n"
     ]
    }
   ],
   "source": [
    "\n",
    "queries_df = pd.DataFrame(queries)\n",
    "queries_df.to_parquet(\"positive_queries_with_prompt.parquet\", index=False)"
   ]
  },
  {
   "cell_type": "code",
   "execution_count": 26,
   "metadata": {},
   "outputs": [
    {
     "data": {
      "text/plain": [
       "(100, 5)"
      ]
     },
     "execution_count": 26,
     "metadata": {},
     "output_type": "execute_result"
    }
   ],
   "source": [
    "queries_df.shape"
   ]
  },
  {
   "cell_type": "code",
   "execution_count": 28,
   "metadata": {},
   "outputs": [
    {
     "data": {
      "text/html": [
       "<div>\n",
       "<style scoped>\n",
       "    .dataframe tbody tr th:only-of-type {\n",
       "        vertical-align: middle;\n",
       "    }\n",
       "\n",
       "    .dataframe tbody tr th {\n",
       "        vertical-align: top;\n",
       "    }\n",
       "\n",
       "    .dataframe thead th {\n",
       "        text-align: right;\n",
       "    }\n",
       "</style>\n",
       "<table border=\"1\" class=\"dataframe\">\n",
       "  <thead>\n",
       "    <tr style=\"text-align: right;\">\n",
       "      <th></th>\n",
       "      <th>article_id</th>\n",
       "      <th>title</th>\n",
       "      <th>url</th>\n",
       "      <th>positive</th>\n",
       "      <th>generated_query</th>\n",
       "    </tr>\n",
       "  </thead>\n",
       "  <tbody>\n",
       "    <tr>\n",
       "      <th>0</th>\n",
       "      <td>20231101.da_28930_0</td>\n",
       "      <td>2-modulusdeler</td>\n",
       "      <td>https://da.wikipedia.org/wiki/2-modulusdeler</td>\n",
       "      <td>Men har man anvendt en fast fordeler (eng. pre...</td>\n",
       "      <td>Hvad er N-værdien for en fast fordeler på 16?</td>\n",
       "    </tr>\n",
       "    <tr>\n",
       "      <th>1</th>\n",
       "      <td>20231101.da_720900_0</td>\n",
       "      <td>A.O. Andersen (skibsreder)</td>\n",
       "      <td>https://da.wikipedia.org/wiki/A.O.%20Andersen%...</td>\n",
       "      <td>Fra 1919 havde Andersen sæde i Privatbankens b...</td>\n",
       "      <td>Hvordan hjalp Andersen med at rekonstruere Pri...</td>\n",
       "    </tr>\n",
       "    <tr>\n",
       "      <th>2</th>\n",
       "      <td>20231101.da_43159_0</td>\n",
       "      <td>ASA Film</td>\n",
       "      <td>https://da.wikipedia.org/wiki/ASA%20Film</td>\n",
       "      <td>A/S Filmatelieret ASA (Oprindelige navn: Aktie...</td>\n",
       "      <td>Hvem var de centrale personer på A/S Filmateli...</td>\n",
       "    </tr>\n",
       "    <tr>\n",
       "      <th>3</th>\n",
       "      <td>20231101.da_13868_0</td>\n",
       "      <td>Adolf Hitler</td>\n",
       "      <td>https://da.wikipedia.org/wiki/Adolf%20Hitler</td>\n",
       "      <td>Den nationalsocialistiske udenrigspolitik vist...</td>\n",
       "      <td>Hvordan viste Tysklands udenrigspolitik sit kl...</td>\n",
       "    </tr>\n",
       "    <tr>\n",
       "      <th>4</th>\n",
       "      <td>20231101.da_996759_0</td>\n",
       "      <td>Amanda Nunes</td>\n",
       "      <td>https://da.wikipedia.org/wiki/Amanda%20Nunes</td>\n",
       "      <td>Nunes var planlagt til at møde Kaitlin Young p...</td>\n",
       "      <td>Hvem skulle Nunes møde på Invicta FC 5 og hvor...</td>\n",
       "    </tr>\n",
       "  </tbody>\n",
       "</table>\n",
       "</div>"
      ],
      "text/plain": [
       "             article_id                       title  \\\n",
       "0   20231101.da_28930_0              2-modulusdeler   \n",
       "1  20231101.da_720900_0  A.O. Andersen (skibsreder)   \n",
       "2   20231101.da_43159_0                    ASA Film   \n",
       "3   20231101.da_13868_0                Adolf Hitler   \n",
       "4  20231101.da_996759_0                Amanda Nunes   \n",
       "\n",
       "                                                 url  \\\n",
       "0       https://da.wikipedia.org/wiki/2-modulusdeler   \n",
       "1  https://da.wikipedia.org/wiki/A.O.%20Andersen%...   \n",
       "2           https://da.wikipedia.org/wiki/ASA%20Film   \n",
       "3       https://da.wikipedia.org/wiki/Adolf%20Hitler   \n",
       "4       https://da.wikipedia.org/wiki/Amanda%20Nunes   \n",
       "\n",
       "                                            positive  \\\n",
       "0  Men har man anvendt en fast fordeler (eng. pre...   \n",
       "1  Fra 1919 havde Andersen sæde i Privatbankens b...   \n",
       "2  A/S Filmatelieret ASA (Oprindelige navn: Aktie...   \n",
       "3  Den nationalsocialistiske udenrigspolitik vist...   \n",
       "4  Nunes var planlagt til at møde Kaitlin Young p...   \n",
       "\n",
       "                                     generated_query  \n",
       "0      Hvad er N-værdien for en fast fordeler på 16?  \n",
       "1  Hvordan hjalp Andersen med at rekonstruere Pri...  \n",
       "2  Hvem var de centrale personer på A/S Filmateli...  \n",
       "3  Hvordan viste Tysklands udenrigspolitik sit kl...  \n",
       "4  Hvem skulle Nunes møde på Invicta FC 5 og hvor...  "
      ]
     },
     "execution_count": 28,
     "metadata": {},
     "output_type": "execute_result"
    }
   ],
   "source": [
    "queries_df.head()"
   ]
  },
  {
   "cell_type": "code",
   "execution_count": null,
   "metadata": {},
   "outputs": [],
   "source": []
  }
 ],
 "metadata": {
  "kernelspec": {
   "display_name": "mlenv",
   "language": "python",
   "name": "mlenv"
  },
  "language_info": {
   "codemirror_mode": {
    "name": "ipython",
    "version": 3
   },
   "file_extension": ".py",
   "mimetype": "text/x-python",
   "name": "python",
   "nbconvert_exporter": "python",
   "pygments_lexer": "ipython3",
   "version": "3.9.13"
  },
  "orig_nbformat": 4
 },
 "nbformat": 4,
 "nbformat_minor": 2
}
