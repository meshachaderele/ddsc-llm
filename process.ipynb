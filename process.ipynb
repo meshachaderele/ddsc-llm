{
 "cells": [
  {
   "cell_type": "code",
   "execution_count": 1,
   "metadata": {},
   "outputs": [
    {
     "name": "stdout",
     "output_type": "stream",
     "text": [
      "Intel MKL WARNING: Support of Intel(R) Streaming SIMD Extensions 4.2 (Intel(R) SSE4.2) enabled only processors has been deprecated. Intel oneAPI Math Kernel Library 2025.0 will require Intel(R) Advanced Vector Extensions (Intel(R) AVX) instructions.\n",
      "Intel MKL WARNING: Support of Intel(R) Streaming SIMD Extensions 4.2 (Intel(R) SSE4.2) enabled only processors has been deprecated. Intel oneAPI Math Kernel Library 2025.0 will require Intel(R) Advanced Vector Extensions (Intel(R) AVX) instructions.\n"
     ]
    }
   ],
   "source": [
    "import pandas as pd\n",
    "import random"
   ]
  },
  {
   "cell_type": "code",
   "execution_count": 47,
   "metadata": {},
   "outputs": [],
   "source": [
    "df = pd.read_parquet(\"train-00000-of-00002.parquet\")"
   ]
  },
  {
   "cell_type": "code",
   "execution_count": 48,
   "metadata": {},
   "outputs": [
    {
     "data": {
      "text/html": [
       "<div>\n",
       "<style scoped>\n",
       "    .dataframe tbody tr th:only-of-type {\n",
       "        vertical-align: middle;\n",
       "    }\n",
       "\n",
       "    .dataframe tbody tr th {\n",
       "        vertical-align: top;\n",
       "    }\n",
       "\n",
       "    .dataframe thead th {\n",
       "        text-align: right;\n",
       "    }\n",
       "</style>\n",
       "<table border=\"1\" class=\"dataframe\">\n",
       "  <thead>\n",
       "    <tr style=\"text-align: right;\">\n",
       "      <th></th>\n",
       "      <th>_id</th>\n",
       "      <th>url</th>\n",
       "      <th>title</th>\n",
       "      <th>text</th>\n",
       "    </tr>\n",
       "  </thead>\n",
       "  <tbody>\n",
       "    <tr>\n",
       "      <th>0</th>\n",
       "      <td>20231101.da_508659_0</td>\n",
       "      <td>https://da.wikipedia.org/wiki/Piccadilly%20Cir...</td>\n",
       "      <td>Piccadilly Circus Station</td>\n",
       "      <td>Piccadilly Circus Station er en London Undergr...</td>\n",
       "    </tr>\n",
       "    <tr>\n",
       "      <th>1</th>\n",
       "      <td>20231101.da_508659_1</td>\n",
       "      <td>https://da.wikipedia.org/wiki/Piccadilly%20Cir...</td>\n",
       "      <td>Piccadilly Circus Station</td>\n",
       "      <td>Station blev åbnet den 10. marts 1906 af Baker...</td>\n",
       "    </tr>\n",
       "    <tr>\n",
       "      <th>2</th>\n",
       "      <td>20231101.da_508659_2</td>\n",
       "      <td>https://da.wikipedia.org/wiki/Piccadilly%20Cir...</td>\n",
       "      <td>Piccadilly Circus Station</td>\n",
       "      <td>Den gamle stationsbygningen, designet af Lesli...</td>\n",
       "    </tr>\n",
       "    <tr>\n",
       "      <th>3</th>\n",
       "      <td>20231101.da_508659_3</td>\n",
       "      <td>https://da.wikipedia.org/wiki/Piccadilly%20Cir...</td>\n",
       "      <td>Piccadilly Circus Station</td>\n",
       "      <td>Bakerloo line-perronerne på Piccadilly Circus ...</td>\n",
       "    </tr>\n",
       "    <tr>\n",
       "      <th>4</th>\n",
       "      <td>20231101.da_508659_4</td>\n",
       "      <td>https://da.wikipedia.org/wiki/Piccadilly%20Cir...</td>\n",
       "      <td>Piccadilly Circus Station</td>\n",
       "      <td>Piccadilly Circus er foreslået som stop på Che...</td>\n",
       "    </tr>\n",
       "  </tbody>\n",
       "</table>\n",
       "</div>"
      ],
      "text/plain": [
       "                    _id                                                url  \\\n",
       "0  20231101.da_508659_0  https://da.wikipedia.org/wiki/Piccadilly%20Cir...   \n",
       "1  20231101.da_508659_1  https://da.wikipedia.org/wiki/Piccadilly%20Cir...   \n",
       "2  20231101.da_508659_2  https://da.wikipedia.org/wiki/Piccadilly%20Cir...   \n",
       "3  20231101.da_508659_3  https://da.wikipedia.org/wiki/Piccadilly%20Cir...   \n",
       "4  20231101.da_508659_4  https://da.wikipedia.org/wiki/Piccadilly%20Cir...   \n",
       "\n",
       "                       title  \\\n",
       "0  Piccadilly Circus Station   \n",
       "1  Piccadilly Circus Station   \n",
       "2  Piccadilly Circus Station   \n",
       "3  Piccadilly Circus Station   \n",
       "4  Piccadilly Circus Station   \n",
       "\n",
       "                                                text  \n",
       "0  Piccadilly Circus Station er en London Undergr...  \n",
       "1  Station blev åbnet den 10. marts 1906 af Baker...  \n",
       "2  Den gamle stationsbygningen, designet af Lesli...  \n",
       "3  Bakerloo line-perronerne på Piccadilly Circus ...  \n",
       "4  Piccadilly Circus er foreslået som stop på Che...  "
      ]
     },
     "execution_count": 48,
     "metadata": {},
     "output_type": "execute_result"
    }
   ],
   "source": [
    "df.head()"
   ]
  },
  {
   "cell_type": "code",
   "execution_count": 52,
   "metadata": {},
   "outputs": [],
   "source": [
    "# For memory management, I will select 100 of those areticles with >9 paragraphs\n",
    "\n",
    "filtered_articles = df.groupby('title').filter(lambda x: len(x) >= 9)\n",
    "selected_titles = filtered_articles['title'].drop_duplicates().sample(n=100, random_state=42)\n",
    "selected_articles = filtered_articles[filtered_articles['title'].isin(selected_titles)]"
   ]
  },
  {
   "cell_type": "code",
   "execution_count": 58,
   "metadata": {},
   "outputs": [
    {
     "name": "stdout",
     "output_type": "stream",
     "text": [
      "Processing complete. Number of samples: 100\n"
     ]
    }
   ],
   "source": [
    "import random\n",
    "\n",
    "processed_samples = []\n",
    "\n",
    "\"\"\"The function below will do the following:\n",
    "Group paragraphs by article title and sort if needed.\n",
    "Check that each article has at least 9 paragraphs; skip otherwise.\n",
    "Randomly select a starting index for a 9-paragraph window.\n",
    "Use the middle (5th) paragraph as the positive sample; surrounding paragraphs are negatives.\n",
    "Create a sample dictionary, using the article ID and URL from the first row.\n",
    "Append the processed sample to a list.\n",
    "\"\"\"\n",
    "\n",
    "for title, group in selected_articles.groupby('title'):\n",
    "    paragraphs = group['text'].tolist()  \n",
    "    if len(paragraphs) < 9:\n",
    "        continue  \n",
    "    start_idx = random.randint(0, len(paragraphs) - 9)\n",
    "    selected_window = paragraphs[start_idx:start_idx + 9]\n",
    "    middle_index = 4  \n",
    "    positive_sample = selected_window[middle_index]\n",
    "    negative_samples = selected_window[:middle_index] + selected_window[middle_index + 1:]\n",
    "    \n",
    "    sample = {\n",
    "        'article_id': group['_id'].iloc[0],  \n",
    "        'title': title,\n",
    "        'url': group['url'].iloc[0],  \n",
    "        'positive': positive_sample,\n",
    "        'negatives': negative_samples\n",
    "    }\n",
    "\n",
    "    processed_samples.append(sample)\n",
    "\n",
    "print(\"Processing complete. Number of samples:\", len(processed_samples))\n"
   ]
  },
  {
   "cell_type": "code",
   "execution_count": 59,
   "metadata": {},
   "outputs": [],
   "source": [
    "processed_df = pd.DataFrame(processed_samples)"
   ]
  },
  {
   "cell_type": "code",
   "execution_count": 61,
   "metadata": {},
   "outputs": [
    {
     "data": {
      "text/html": [
       "<div>\n",
       "<style scoped>\n",
       "    .dataframe tbody tr th:only-of-type {\n",
       "        vertical-align: middle;\n",
       "    }\n",
       "\n",
       "    .dataframe tbody tr th {\n",
       "        vertical-align: top;\n",
       "    }\n",
       "\n",
       "    .dataframe thead th {\n",
       "        text-align: right;\n",
       "    }\n",
       "</style>\n",
       "<table border=\"1\" class=\"dataframe\">\n",
       "  <thead>\n",
       "    <tr style=\"text-align: right;\">\n",
       "      <th></th>\n",
       "      <th>article_id</th>\n",
       "      <th>title</th>\n",
       "      <th>url</th>\n",
       "      <th>positive</th>\n",
       "      <th>negatives</th>\n",
       "    </tr>\n",
       "  </thead>\n",
       "  <tbody>\n",
       "    <tr>\n",
       "      <th>0</th>\n",
       "      <td>20231101.da_28930_0</td>\n",
       "      <td>2-modulusdeler</td>\n",
       "      <td>https://da.wikipedia.org/wiki/2-modulusdeler</td>\n",
       "      <td>Men har man anvendt en fast fordeler (eng. pre...</td>\n",
       "      <td>[Indenfor den digitale elektronik bruges beteg...</td>\n",
       "    </tr>\n",
       "    <tr>\n",
       "      <th>1</th>\n",
       "      <td>20231101.da_720900_0</td>\n",
       "      <td>A.O. Andersen (skibsreder)</td>\n",
       "      <td>https://da.wikipedia.org/wiki/A.O.%20Andersen%...</td>\n",
       "      <td>Fra 1919 havde Andersen sæde i Privatbankens b...</td>\n",
       "      <td>[A.O. Andersen fik 1. juli 1890 ansættelse i s...</td>\n",
       "    </tr>\n",
       "    <tr>\n",
       "      <th>2</th>\n",
       "      <td>20231101.da_43159_0</td>\n",
       "      <td>ASA Film</td>\n",
       "      <td>https://da.wikipedia.org/wiki/ASA%20Film</td>\n",
       "      <td>A/S Filmatelieret ASA (Oprindelige navn: Aktie...</td>\n",
       "      <td>[ASA-film A/S blev grundlagt i 1936 af Lau Lau...</td>\n",
       "    </tr>\n",
       "    <tr>\n",
       "      <th>3</th>\n",
       "      <td>20231101.da_13868_0</td>\n",
       "      <td>Adolf Hitler</td>\n",
       "      <td>https://da.wikipedia.org/wiki/Adolf%20Hitler</td>\n",
       "      <td>Den nationalsocialistiske udenrigspolitik vist...</td>\n",
       "      <td>[Hitler førte den samme udenrigspolitisk, men ...</td>\n",
       "    </tr>\n",
       "    <tr>\n",
       "      <th>4</th>\n",
       "      <td>20231101.da_996759_0</td>\n",
       "      <td>Amanda Nunes</td>\n",
       "      <td>https://da.wikipedia.org/wiki/Amanda%20Nunes</td>\n",
       "      <td>Nunes var planlagt til at møde Kaitlin Young p...</td>\n",
       "      <td>[Nunes vandt fem kampe i træk, alle ved en for...</td>\n",
       "    </tr>\n",
       "  </tbody>\n",
       "</table>\n",
       "</div>"
      ],
      "text/plain": [
       "             article_id                       title  \\\n",
       "0   20231101.da_28930_0              2-modulusdeler   \n",
       "1  20231101.da_720900_0  A.O. Andersen (skibsreder)   \n",
       "2   20231101.da_43159_0                    ASA Film   \n",
       "3   20231101.da_13868_0                Adolf Hitler   \n",
       "4  20231101.da_996759_0                Amanda Nunes   \n",
       "\n",
       "                                                 url  \\\n",
       "0       https://da.wikipedia.org/wiki/2-modulusdeler   \n",
       "1  https://da.wikipedia.org/wiki/A.O.%20Andersen%...   \n",
       "2           https://da.wikipedia.org/wiki/ASA%20Film   \n",
       "3       https://da.wikipedia.org/wiki/Adolf%20Hitler   \n",
       "4       https://da.wikipedia.org/wiki/Amanda%20Nunes   \n",
       "\n",
       "                                            positive  \\\n",
       "0  Men har man anvendt en fast fordeler (eng. pre...   \n",
       "1  Fra 1919 havde Andersen sæde i Privatbankens b...   \n",
       "2  A/S Filmatelieret ASA (Oprindelige navn: Aktie...   \n",
       "3  Den nationalsocialistiske udenrigspolitik vist...   \n",
       "4  Nunes var planlagt til at møde Kaitlin Young p...   \n",
       "\n",
       "                                           negatives  \n",
       "0  [Indenfor den digitale elektronik bruges beteg...  \n",
       "1  [A.O. Andersen fik 1. juli 1890 ansættelse i s...  \n",
       "2  [ASA-film A/S blev grundlagt i 1936 af Lau Lau...  \n",
       "3  [Hitler førte den samme udenrigspolitisk, men ...  \n",
       "4  [Nunes vandt fem kampe i træk, alle ved en for...  "
      ]
     },
     "execution_count": 61,
     "metadata": {},
     "output_type": "execute_result"
    }
   ],
   "source": [
    "processed_df.head()"
   ]
  },
  {
   "cell_type": "code",
   "execution_count": null,
   "metadata": {},
   "outputs": [],
   "source": [
    "processed_df.to_parquet(\"processed_danish_wikipedia.parquet\", index=False)"
   ]
  }
 ],
 "metadata": {
  "kernelspec": {
   "display_name": "mlenv",
   "language": "python",
   "name": "mlenv"
  },
  "language_info": {
   "codemirror_mode": {
    "name": "ipython",
    "version": 3
   },
   "file_extension": ".py",
   "mimetype": "text/x-python",
   "name": "python",
   "nbconvert_exporter": "python",
   "pygments_lexer": "ipython3",
   "version": "3.9.13"
  },
  "orig_nbformat": 4
 },
 "nbformat": 4,
 "nbformat_minor": 2
}
